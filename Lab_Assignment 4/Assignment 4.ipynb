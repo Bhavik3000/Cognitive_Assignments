{
 "cells": [
  {
   "cell_type": "code",
   "execution_count": 1,
   "id": "f3337278-b018-4b7b-8dcb-5084effde8df",
   "metadata": {},
   "outputs": [],
   "source": [
    "import pandas as pd\n",
    "import numpy as np\n"
   ]
  },
  {
   "cell_type": "code",
   "execution_count": null,
   "id": "9d0f216b-78ca-4547-b71f-c1107bbfa993",
   "metadata": {},
   "outputs": [],
   "source": [
    "# Q.1 Write a program to create a NumPy 1D-array with 5 elements and perform basic \n",
    "# operations like: \n",
    "# a) Addition of 2 in all the element  \n",
    "# b) Multiply 3 with all the elements \n",
    "# c) Divide every element by 2 "
   ]
  },
  {
   "cell_type": "code",
   "execution_count": 2,
   "id": "0ab40a02-aa4c-4988-987e-be0d54f30c22",
   "metadata": {},
   "outputs": [
    {
     "name": "stdout",
     "output_type": "stream",
     "text": [
      "After adding 2: [48 49 50 51 52]\n",
      "After multiplying by 3: [138 141 144 147 150]\n",
      "After dividing by 2: [23.  23.5 24.  24.5 25. ]\n"
     ]
    }
   ],
   "source": [
    "arr = np.array([46,47,48,49,50])\n",
    "arr_add = arr + 2 \n",
    "print(\"After adding 2:\", arr_add)\n",
    "arr_mul = arr * 3 \n",
    "print(\"After multiplying by 3:\", arr_mul)\n",
    "arr_div = arr/2\n",
    "print(\"After dividing by 2:\", arr_div)"
   ]
  },
  {
   "cell_type": "code",
   "execution_count": null,
   "id": "e2347908-cdd8-448a-9204-6bd446c9c4ea",
   "metadata": {},
   "outputs": [],
   "source": [
    "# Q.2 Questions on Basic NumPy Array: \n",
    "# a) Reverse the NumPy array: arr = np.array([1, 2, 3, 6, 4, 5]) \n",
    "# b) Find the most frequent value and their indice(s) in the following arrays: \n",
    "# i. x = np.array([1,2,3,4,5,1,2,1,1,1]) \n",
    "# ii. y = np.array([1, 1, 1, 2, 3, 4, 2, 4, 3, 3, ])"
   ]
  },
  {
   "cell_type": "code",
   "execution_count": 3,
   "id": "6e1d1ab3-8ba4-44bc-b070-754658ea96fe",
   "metadata": {},
   "outputs": [
    {
     "name": "stdout",
     "output_type": "stream",
     "text": [
      "[5 4 6 3 2 1]\n"
     ]
    }
   ],
   "source": [
    "x = np.array([1,2,3,6,4,5])\n",
    "reversed_arr = x[::-1]\n",
    "print(reversed_arr)"
   ]
  },
  {
   "cell_type": "code",
   "execution_count": 4,
   "id": "7d7f5d61-987a-40ea-be73-3c94e790f974",
   "metadata": {},
   "outputs": [
    {
     "name": "stdout",
     "output_type": "stream",
     "text": [
      "Most frequent in y: 1, Indices: [0 1 2]\n"
     ]
    }
   ],
   "source": [
    "y = np.array([1, 1, 1, 2, 3, 4, 2, 4, 3, 3,])\n",
    "values,counts = np.unique(y,return_counts=True)\n",
    "most_frequent_value = values[np.argmax(counts)] \n",
    "indices = np.where(y == most_frequent_value)[0]\n",
    "print(f\"Most frequent in y: {most_frequent_value}, Indices: {indices}\")"
   ]
  },
  {
   "cell_type": "code",
   "execution_count": null,
   "id": "eafd207f-37f7-4c3d-824b-d0a0c4a3b58d",
   "metadata": {},
   "outputs": [],
   "source": [
    "# Q.3 For the given 2-D array arr=np.array([10, 20, 30], [40, 50, 60], [70, 80, 90]), access \n",
    "# elements using row and column indices as follows: \n",
    "# a) Access 1st row, 2nd column  \n",
    "# b) Access 3rd row, 1st column"
   ]
  },
  {
   "cell_type": "code",
   "execution_count": 5,
   "id": "be2236e3-5b47-4890-9d48-213c1cbdfa26",
   "metadata": {},
   "outputs": [
    {
     "name": "stdout",
     "output_type": "stream",
     "text": [
      "a) 1st row, 2nd column: 20\n",
      "b) 3rd row, 1st column: 70\n"
     ]
    }
   ],
   "source": [
    "arr=np.array([[10, 20, 30], [40, 50, 60], [70, 80, 90]])\n",
    "element_a = arr[0][1]\n",
    "element_b = arr[2][0]\n",
    "print(\"a) 1st row, 2nd column:\", element_a)\n",
    "print(\"b) 3rd row, 1st column:\", element_b)"
   ]
  },
  {
   "cell_type": "code",
   "execution_count": null,
   "id": "6f768b97-799b-489f-a4ae-30f2ca7aee75",
   "metadata": {},
   "outputs": [],
   "source": [
    "# Q.4 Write program to create an 1-D NumPy array named <<Your Name>> with evenly \n",
    "# spaced 25 numbers from 10 to 100 using linspace(). Print the dimensions of the array, \n",
    "# shape, total elements, the data type of each element and total number of bytes consumed \n",
    "# by the array. Find the transpose of this array using reshape() attribute. Can we do the same \n",
    "# with T attribute?"
   ]
  },
  {
   "cell_type": "code",
   "execution_count": 6,
   "id": "977e61d3-23a7-4012-9d17-1d51708da249",
   "metadata": {},
   "outputs": [
    {
     "name": "stdout",
     "output_type": "stream",
     "text": [
      "[ 10.    13.75  17.5   21.25  25.    28.75  32.5   36.25  40.    43.75\n",
      "  47.5   51.25  55.    58.75  62.5   66.25  70.    73.75  77.5   81.25\n",
      "  85.    88.75  92.5   96.25 100.  ]\n"
     ]
    },
    {
     "data": {
      "text/plain": [
       "25"
      ]
     },
     "execution_count": 6,
     "metadata": {},
     "output_type": "execute_result"
    }
   ],
   "source": [
    "Bhavik = np.linspace(10,100,25)\n",
    "print(Bhavik)\n",
    "Bhavik.shape\n",
    "Bhavik.size"
   ]
  },
  {
   "cell_type": "code",
   "execution_count": 7,
   "id": "a0042fdb-df0e-452c-9543-b83a6b19c2dd",
   "metadata": {},
   "outputs": [
    {
     "data": {
      "text/plain": [
       "dtype('float64')"
      ]
     },
     "execution_count": 7,
     "metadata": {},
     "output_type": "execute_result"
    }
   ],
   "source": [
    "Bhavik.dtype"
   ]
  },
  {
   "cell_type": "code",
   "execution_count": 8,
   "id": "61a33f8b-570c-41bd-a837-70833b589c0c",
   "metadata": {},
   "outputs": [
    {
     "name": "stdout",
     "output_type": "stream",
     "text": [
      "200\n",
      "200\n"
     ]
    }
   ],
   "source": [
    "print(Bhavik.itemsize * Bhavik.size) \n",
    "print(Bhavik.nbytes)\n"
   ]
  },
  {
   "cell_type": "code",
   "execution_count": 9,
   "id": "f812ac48-d74b-4241-aa32-e1597ca8bd9b",
   "metadata": {},
   "outputs": [
    {
     "data": {
      "text/plain": [
       "array([[ 10.  ,  13.75,  17.5 ,  21.25,  25.  ],\n",
       "       [ 28.75,  32.5 ,  36.25,  40.  ,  43.75],\n",
       "       [ 47.5 ,  51.25,  55.  ,  58.75,  62.5 ],\n",
       "       [ 66.25,  70.  ,  73.75,  77.5 ,  81.25],\n",
       "       [ 85.  ,  88.75,  92.5 ,  96.25, 100.  ]])"
      ]
     },
     "execution_count": 9,
     "metadata": {},
     "output_type": "execute_result"
    }
   ],
   "source": [
    "Bhavik = Bhavik.reshape(5,5)\n",
    "Bhavik"
   ]
  },
  {
   "cell_type": "code",
   "execution_count": 10,
   "id": "63d099e7-0478-4fcc-8b67-8cbbf788b321",
   "metadata": {},
   "outputs": [
    {
     "data": {
      "text/plain": [
       "array([[ 10.  ,  28.75,  47.5 ,  66.25,  85.  ],\n",
       "       [ 13.75,  32.5 ,  51.25,  70.  ,  88.75],\n",
       "       [ 17.5 ,  36.25,  55.  ,  73.75,  92.5 ],\n",
       "       [ 21.25,  40.  ,  58.75,  77.5 ,  96.25],\n",
       "       [ 25.  ,  43.75,  62.5 ,  81.25, 100.  ]])"
      ]
     },
     "execution_count": 10,
     "metadata": {},
     "output_type": "execute_result"
    }
   ],
   "source": [
    "Bhavik = Bhavik.T\n",
    "Bhavik"
   ]
  },
  {
   "cell_type": "code",
   "execution_count": null,
   "id": "164da91d-6643-4ed4-9c71-cd163e837bab",
   "metadata": {},
   "outputs": [],
   "source": [
    "# Q5. Create a 2-D Array of three rows and four columns, named ucs420_<your_name>> \n",
    "# with following values – 10, 20, 30, 40, 50, 60, 70, 80, 90, 15, 20, 35. Compute the mean, \n",
    "# median, max, min, unique elements. Reshape the array to four rows and three columns and \n",
    "# name it as reshaped_ ucs420_<your_name>>. Resize the array to two rows and three \n",
    "# columns and name it as resized_ ucs420_<your_name>>. "
   ]
  },
  {
   "cell_type": "code",
   "execution_count": 11,
   "id": "fff6e638-fde5-4f79-82d4-ed130ed0e986",
   "metadata": {},
   "outputs": [
    {
     "name": "stdout",
     "output_type": "stream",
     "text": [
      "Mean:  43.333333333333336\n",
      "Median:  37.5\n",
      "Max:  90\n",
      "Min:  10\n",
      "Unique Elements:  [10 15 20 30 35 40 50 60 70 80 90]\n"
     ]
    }
   ],
   "source": [
    "ucs420_Bhavik = np.array([[10,20,30,40],\n",
    "                        [50,60,70,80],\n",
    "                        [90,15,20,35]])\n",
    "print(\"Mean: \",ucs420_Bhavik.mean())\n",
    "print(\"Median: \",np.median(ucs420_Bhavik))\n",
    "print(\"Max: \",ucs420_Bhavik.max())\n",
    "print(\"Min: \",ucs420_Bhavik.min())\n",
    "print(\"Unique Elements: \",np.unique(ucs420_Bhavik))"
   ]
  },
  {
   "cell_type": "code",
   "execution_count": 12,
   "id": "8c2772de-37e8-45a5-b5e1-21ee63ae8447",
   "metadata": {},
   "outputs": [
    {
     "name": "stdout",
     "output_type": "stream",
     "text": [
      "[[10 20 30]\n",
      " [40 50 60]\n",
      " [70 80 90]\n",
      " [15 20 35]]\n"
     ]
    }
   ],
   "source": [
    "reshaped_ucs420_Bhavik = ucs420_Bhavik.reshape(4,3)\n",
    "print(reshaped_ucs420_Bhavik)"
   ]
  },
  {
   "cell_type": "code",
   "execution_count": 13,
   "id": "c0adf898-321e-47a1-8d35-99ddfb8ca607",
   "metadata": {},
   "outputs": [
    {
     "name": "stdout",
     "output_type": "stream",
     "text": [
      "[[10 20 30]\n",
      " [40 50 60]]\n"
     ]
    }
   ],
   "source": [
    "resized_ucs420_Bhavik = np.resize(ucs420_Bhavik,(2,3))\n",
    "print(resized_ucs420_Bhavik)"
   ]
  }
 ],
 "metadata": {
  "kernelspec": {
   "display_name": "Python 3 (ipykernel)",
   "language": "python",
   "name": "python3"
  },
  "language_info": {
   "codemirror_mode": {
    "name": "ipython",
    "version": 3
   },
   "file_extension": ".py",
   "mimetype": "text/x-python",
   "name": "python",
   "nbconvert_exporter": "python",
   "pygments_lexer": "ipython3",
   "version": "3.12.5"
  }
 },
 "nbformat": 4,
 "nbformat_minor": 5
}
